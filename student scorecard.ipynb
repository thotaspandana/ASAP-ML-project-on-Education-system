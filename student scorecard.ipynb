{
 "cells": [
  {
   "cell_type": "code",
   "execution_count": 38,
   "metadata": {},
   "outputs": [],
   "source": [
    "import pandas as pd\n",
    "import numpy as np\n",
    "import matplotlib.pyplot as plt\n",
    "import seaborn as sns\n",
    "from sklearn.model_selection import train_test_split\n",
    "from sklearn.ensemble import RandomForestRegressor\n",
    "from sklearn.metrics import mean_absolute_error, r2_score\n",
    "import joblib  \n"
   ]
  },
  {
   "cell_type": "code",
   "execution_count": 39,
   "metadata": {},
   "outputs": [],
   "source": [
    "\n",
    "np.random.seed(42)\n"
   ]
  },
  {
   "cell_type": "code",
   "execution_count": 40,
   "metadata": {},
   "outputs": [
    {
     "name": "stdout",
     "output_type": "stream",
     "text": [
      "   ID   Name    Subject  Score\n",
      "0   1  David  Chemistry     79\n",
      "1   2  Grace    History     54\n",
      "2   3  Alice  Economics     62\n",
      "3   4  Grace  Economics     61\n",
      "4   5    Eve    History     65\n"
     ]
    }
   ],
   "source": [
    "df = pd.read_csv(r\"C:\\Users\\ASUS\\Desktop\\students.CSV\")\n",
    "print(df.head())"
   ]
  },
  {
   "cell_type": "code",
   "execution_count": 41,
   "metadata": {},
   "outputs": [],
   "source": [
    "num_students = 1000\n"
   ]
  },
  {
   "cell_type": "code",
   "execution_count": 42,
   "metadata": {},
   "outputs": [],
   "source": [
    "names = [f\"Student_{i}\" for i in range(num_students)]\n"
   ]
  },
  {
   "cell_type": "code",
   "execution_count": 43,
   "metadata": {},
   "outputs": [],
   "source": [
    "math_scores = np.random.randint(50, 100, num_students)\n",
    "science_scores = np.random.randint(50, 100, num_students)\n",
    "english_scores = np.random.randint(50, 100, num_students)\n",
    "history_scores = np.random.randint(50, 100, num_students)\n"
   ]
  },
  {
   "cell_type": "code",
   "execution_count": 44,
   "metadata": {},
   "outputs": [],
   "source": [
    "final_scores = (math_scores * 0.3 + science_scores * 0.3 + english_scores * 0.2 + history_scores * 0.2).astype(int)"
   ]
  },
  {
   "cell_type": "code",
   "execution_count": 45,
   "metadata": {},
   "outputs": [
    {
     "data": {
      "text/html": [
       "<div>\n",
       "<style scoped>\n",
       "    .dataframe tbody tr th:only-of-type {\n",
       "        vertical-align: middle;\n",
       "    }\n",
       "\n",
       "    .dataframe tbody tr th {\n",
       "        vertical-align: top;\n",
       "    }\n",
       "\n",
       "    .dataframe thead th {\n",
       "        text-align: right;\n",
       "    }\n",
       "</style>\n",
       "<table border=\"1\" class=\"dataframe\">\n",
       "  <thead>\n",
       "    <tr style=\"text-align: right;\">\n",
       "      <th></th>\n",
       "      <th>Student</th>\n",
       "      <th>Math</th>\n",
       "      <th>Science</th>\n",
       "      <th>English</th>\n",
       "      <th>History</th>\n",
       "      <th>Final_Score</th>\n",
       "    </tr>\n",
       "  </thead>\n",
       "  <tbody>\n",
       "    <tr>\n",
       "      <th>0</th>\n",
       "      <td>Student_0</td>\n",
       "      <td>88</td>\n",
       "      <td>82</td>\n",
       "      <td>52</td>\n",
       "      <td>56</td>\n",
       "      <td>72</td>\n",
       "    </tr>\n",
       "    <tr>\n",
       "      <th>1</th>\n",
       "      <td>Student_1</td>\n",
       "      <td>78</td>\n",
       "      <td>71</td>\n",
       "      <td>55</td>\n",
       "      <td>53</td>\n",
       "      <td>66</td>\n",
       "    </tr>\n",
       "    <tr>\n",
       "      <th>2</th>\n",
       "      <td>Student_2</td>\n",
       "      <td>64</td>\n",
       "      <td>70</td>\n",
       "      <td>58</td>\n",
       "      <td>78</td>\n",
       "      <td>67</td>\n",
       "    </tr>\n",
       "    <tr>\n",
       "      <th>3</th>\n",
       "      <td>Student_3</td>\n",
       "      <td>92</td>\n",
       "      <td>55</td>\n",
       "      <td>55</td>\n",
       "      <td>63</td>\n",
       "      <td>67</td>\n",
       "    </tr>\n",
       "    <tr>\n",
       "      <th>4</th>\n",
       "      <td>Student_4</td>\n",
       "      <td>57</td>\n",
       "      <td>55</td>\n",
       "      <td>58</td>\n",
       "      <td>52</td>\n",
       "      <td>55</td>\n",
       "    </tr>\n",
       "    <tr>\n",
       "      <th>...</th>\n",
       "      <td>...</td>\n",
       "      <td>...</td>\n",
       "      <td>...</td>\n",
       "      <td>...</td>\n",
       "      <td>...</td>\n",
       "      <td>...</td>\n",
       "    </tr>\n",
       "    <tr>\n",
       "      <th>995</th>\n",
       "      <td>Student_995</td>\n",
       "      <td>75</td>\n",
       "      <td>91</td>\n",
       "      <td>95</td>\n",
       "      <td>90</td>\n",
       "      <td>86</td>\n",
       "    </tr>\n",
       "    <tr>\n",
       "      <th>996</th>\n",
       "      <td>Student_996</td>\n",
       "      <td>83</td>\n",
       "      <td>93</td>\n",
       "      <td>53</td>\n",
       "      <td>79</td>\n",
       "      <td>79</td>\n",
       "    </tr>\n",
       "    <tr>\n",
       "      <th>997</th>\n",
       "      <td>Student_997</td>\n",
       "      <td>94</td>\n",
       "      <td>98</td>\n",
       "      <td>94</td>\n",
       "      <td>62</td>\n",
       "      <td>88</td>\n",
       "    </tr>\n",
       "    <tr>\n",
       "      <th>998</th>\n",
       "      <td>Student_998</td>\n",
       "      <td>55</td>\n",
       "      <td>89</td>\n",
       "      <td>69</td>\n",
       "      <td>70</td>\n",
       "      <td>71</td>\n",
       "    </tr>\n",
       "    <tr>\n",
       "      <th>999</th>\n",
       "      <td>Student_999</td>\n",
       "      <td>86</td>\n",
       "      <td>60</td>\n",
       "      <td>66</td>\n",
       "      <td>68</td>\n",
       "      <td>70</td>\n",
       "    </tr>\n",
       "  </tbody>\n",
       "</table>\n",
       "<p>1000 rows × 6 columns</p>\n",
       "</div>"
      ],
      "text/plain": [
       "         Student  Math  Science  English  History  Final_Score\n",
       "0      Student_0    88       82       52       56           72\n",
       "1      Student_1    78       71       55       53           66\n",
       "2      Student_2    64       70       58       78           67\n",
       "3      Student_3    92       55       55       63           67\n",
       "4      Student_4    57       55       58       52           55\n",
       "..           ...   ...      ...      ...      ...          ...\n",
       "995  Student_995    75       91       95       90           86\n",
       "996  Student_996    83       93       53       79           79\n",
       "997  Student_997    94       98       94       62           88\n",
       "998  Student_998    55       89       69       70           71\n",
       "999  Student_999    86       60       66       68           70\n",
       "\n",
       "[1000 rows x 6 columns]"
      ]
     },
     "execution_count": 45,
     "metadata": {},
     "output_type": "execute_result"
    }
   ],
   "source": [
    "pd.DataFrame({\n",
    "    \"Student\": names,\n",
    "    \"Math\": math_scores,\n",
    "    \"Science\": science_scores,\n",
    "    \"English\": english_scores,\n",
    "    \"History\": history_scores,\n",
    "    \"Final_Score\": final_scores})"
   ]
  },
  {
   "cell_type": "code",
   "execution_count": 46,
   "metadata": {},
   "outputs": [
    {
     "name": "stdout",
     "output_type": "stream",
     "text": [
      "✅ Large dataset created: students.CSV\n"
     ]
    }
   ],
   "source": [
    "df.to_csv(\"students.CSV\", index=False)\n",
    "print(\"✅ Large dataset created: students.CSV\")"
   ]
  },
  {
   "cell_type": "code",
   "execution_count": 47,
   "metadata": {},
   "outputs": [
    {
     "name": "stdout",
     "output_type": "stream",
     "text": [
      "   ID   Name    Subject  Score\n",
      "0   1  David  Chemistry     79\n",
      "1   2  Grace    History     54\n",
      "2   3  Alice  Economics     62\n",
      "3   4  Grace  Economics     61\n",
      "4   5    Eve    History     65\n"
     ]
    }
   ],
   "source": [
    "df = pd.read_csv(\"students.CSV\")\n",
    "print(df.head())"
   ]
  },
  {
   "cell_type": "code",
   "execution_count": 48,
   "metadata": {},
   "outputs": [
    {
     "data": {
      "image/png": "[encoded data removed]",
      "text/plain": [
       "<Figure size 1000x600 with 1 Axes>"
      ]
     },
     "metadata": {},
     "output_type": "display_data"
    }
   ],
   "source": [
    "plt.figure(figsize=(10, 6))\n",
    "sns.histplot(df[\"Score\"], bins=20, kde=True, color=\"blue\")\n",
    "plt.title(\"Distribution of Final Scores\")\n",
    "plt.xlabel(\"Final Score\")\n",
    "plt.ylabel(\"Frequency\")\n",
    "plt.show()"
   ]
  }
 ],
 "metadata": {
  "kernelspec": {
   "display_name": "Python 3",
   "language": "python",
   "name": "python3"
  },
  "language_info": {
   "codemirror_mode": {
    "name": "ipython",
    "version": 3
   },
   "file_extension": ".py",
   "mimetype": "text/x-python",
   "name": "python",
   "nbconvert_exporter": "python",
   "pygments_lexer": "ipython3",
   "version": "3.12.4"
  }
 },
 "nbformat": 4,
 "nbformat_minor": 2
}
